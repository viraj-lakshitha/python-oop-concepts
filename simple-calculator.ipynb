{
 "cells": [
  {
   "cell_type": "code",
   "execution_count": 16,
   "metadata": {},
   "outputs": [],
   "source": [
    "class Calculator:\n",
    "    def __init__(self,num1,num2):\n",
    "        self.num1 = num1\n",
    "        self.num2 = num2\n",
    "        \n",
    "    def add(self):\n",
    "        print('Addition: '+str(self.num1+self.num2))\n",
    "    \n",
    "    def substract(self):\n",
    "        print('Substraction: '+str(self.num1-self.num2))\n",
    "    \n",
    "    def multiply(self):\n",
    "        print('Multiplication: '+str(self.num1*self.num2))\n",
    "    \n",
    "    def division(self):\n",
    "        print('Division: '+str(self.num1/self.num2))"
   ]
  },
  {
   "cell_type": "code",
   "execution_count": 26,
   "metadata": {},
   "outputs": [
    {
     "name": "stdout",
     "output_type": "stream",
     "text": [
      "Please enter number 1: 10\n",
      "Please enter number 2: 5\n"
     ]
    }
   ],
   "source": [
    "num1 = int(input('Please enter number 1: '))\n",
    "num2 = int(input('Please enter number 2: '))\n",
    "calc = Calculator(num1,num2)"
   ]
  },
  {
   "cell_type": "code",
   "execution_count": 27,
   "metadata": {},
   "outputs": [
    {
     "name": "stdout",
     "output_type": "stream",
     "text": [
      "Please enter the operation: +\n",
      "Addition: 15\n"
     ]
    }
   ],
   "source": [
    "operation = input('Please enter the operation: ')\n",
    "\n",
    "if(operation == '+'):\n",
    "    calc.add()\n",
    "elif(operation == '-'):\n",
    "    calc.substract()\n",
    "elif(operation == '*'):\n",
    "    calc.multiply()\n",
    "elif(operation == '/'):\n",
    "    calc.division()"
   ]
  },
  {
   "cell_type": "code",
   "execution_count": null,
   "metadata": {},
   "outputs": [],
   "source": []
  }
 ],
 "metadata": {
  "kernelspec": {
   "display_name": "Python 3",
   "language": "python",
   "name": "python3"
  },
  "language_info": {
   "codemirror_mode": {
    "name": "ipython",
    "version": 3
   },
   "file_extension": ".py",
   "mimetype": "text/x-python",
   "name": "python",
   "nbconvert_exporter": "python",
   "pygments_lexer": "ipython3",
   "version": "3.8.3"
  }
 },
 "nbformat": 4,
 "nbformat_minor": 4
}
