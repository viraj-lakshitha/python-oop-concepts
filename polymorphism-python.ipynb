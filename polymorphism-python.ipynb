{
 "cells": [
  {
   "cell_type": "markdown",
   "metadata": {},
   "source": [
    "## Polymorphism\n",
    "1. Duck Typing\n",
    "2. Operator Overloading\n",
    "3. Method Overloading\n",
    "4. Method Overrding"
   ]
  },
  {
   "cell_type": "code",
   "execution_count": 2,
   "metadata": {
    "scrolled": true
   },
   "outputs": [
    {
     "name": "stdout",
     "output_type": "stream",
     "text": [
      "Compiling...\n",
      "Running...\n"
     ]
    }
   ],
   "source": [
    "# Duck Typing\n",
    "class PyCharm:\n",
    "    def execute(self):\n",
    "        print('Compiling...')\n",
    "        print('Running...')\n",
    "\n",
    "class Laptop: \n",
    "    def code(self,ide):\n",
    "        ide.execute()\n",
    "        \n",
    "laptop = Laptop()\n",
    "ide = PyCharm()\n",
    "\n",
    "laptop.code(ide)"
   ]
  },
  {
   "cell_type": "code",
   "execution_count": 10,
   "metadata": {
    "scrolled": true
   },
   "outputs": [
    {
     "name": "stdout",
     "output_type": "stream",
     "text": [
      "10\n",
      "-2\n",
      "24\n"
     ]
    }
   ],
   "source": [
    "# Operator Overloading\n",
    "a = 4\n",
    "b = 6\n",
    "\n",
    "# In-built method to add two or more numbers (magic methods)\n",
    "print(int.__add__(a,b))\n",
    "print(int.__sub__(a,b))\n",
    "print(int.__mul__(a,b))\n"
   ]
  },
  {
   "cell_type": "code",
   "execution_count": 21,
   "metadata": {},
   "outputs": [],
   "source": [
    "class Student:\n",
    "    def __init__(self,m1,m2):\n",
    "        self.m1 = m1\n",
    "        self.m2 = m2\n",
    "    \n",
    "    def add(self):\n",
    "        print('Using In-built method',(int.__add__(self.m1,self.m2)))\n",
    "        print('Using Operator',self.m1+self.m2)\n",
    "        \n",
    "s1 = Student(85,90)       \n",
    "s2 = Student(75,91)"
   ]
  },
  {
   "cell_type": "code",
   "execution_count": 22,
   "metadata": {},
   "outputs": [
    {
     "name": "stdout",
     "output_type": "stream",
     "text": [
      "Using In-built method 175\n",
      "Using Operator 175\n"
     ]
    }
   ],
   "source": [
    "s1.add()"
   ]
  },
  {
   "cell_type": "markdown",
   "metadata": {},
   "source": [
    "### Method Overloading and Overriding\n",
    "* Overriding -  Same method with same name and same number of inputs or variabels\n",
    "* Overloading - Same method with same name and different number of inputs or variables"
   ]
  },
  {
   "cell_type": "code",
   "execution_count": 31,
   "metadata": {},
   "outputs": [],
   "source": [
    "# Method Overloading _ In python it doesnt supports directly therefore we are using some trick to overcome the problem\n",
    "class Person:\n",
    "    def __init__(self,num1,num2):\n",
    "        self.num1 = num1\n",
    "        self.num2 = num2\n",
    "        \n",
    "    def sum(self,a=None,b=None,c=None):\n",
    "        \n",
    "        if (a!=None and b!=None and c!=None):\n",
    "            return a+b+c # If passign three arguments\n",
    "        elif (a!=None and b!=None):\n",
    "            return a+b # If passing two arguments\n",
    "        else:\n",
    "            return a # If passing only one argument\n",
    "        \n",
    "        "
   ]
  },
  {
   "cell_type": "code",
   "execution_count": 32,
   "metadata": {},
   "outputs": [
    {
     "name": "stdout",
     "output_type": "stream",
     "text": [
      "22\n",
      "37\n"
     ]
    }
   ],
   "source": [
    "p1 = Person(58,38)\n",
    "print(p1.sum(10,12))\n",
    "print(p1.sum(10,12,15))"
   ]
  },
  {
   "cell_type": "code",
   "execution_count": 35,
   "metadata": {},
   "outputs": [],
   "source": [
    "# Method Overriding - In here compiler first looking for inside the parent class, if it is not there then go for optional things\n",
    "class TestA:\n",
    "    def show(self):\n",
    "        print('in TestA shows')\n",
    "        \n",
    "class TestB(TestA):\n",
    "    def show(self):\n",
    "        print('in TestB shows')"
   ]
  },
  {
   "cell_type": "code",
   "execution_count": 36,
   "metadata": {},
   "outputs": [
    {
     "name": "stdout",
     "output_type": "stream",
     "text": [
      "in TestB shows\n"
     ]
    }
   ],
   "source": [
    "obj = TestB()\n",
    "obj.show()"
   ]
  }
 ],
 "metadata": {
  "kernelspec": {
   "display_name": "Python 3",
   "language": "python",
   "name": "python3"
  },
  "language_info": {
   "codemirror_mode": {
    "name": "ipython",
    "version": 3
   },
   "file_extension": ".py",
   "mimetype": "text/x-python",
   "name": "python",
   "nbconvert_exporter": "python",
   "pygments_lexer": "ipython3",
   "version": "3.8.3"
  }
 },
 "nbformat": 4,
 "nbformat_minor": 4
}
