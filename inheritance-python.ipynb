{
 "cells": [
  {
   "cell_type": "markdown",
   "metadata": {},
   "source": [
    "## Inheritance\n",
    "If all the attribute and properties of Class A is belongs to Class B, then it is called Inheritance  (Breif idea) | For an exsample :  If there are two classes as `class ClassA` and `class ClassB` then ClassA inherit from ClassB as `ClassA(ClassB)`, so all features of ClassA inherit or copys to ClassB"
   ]
  },
  {
   "cell_type": "code",
   "execution_count": 12,
   "metadata": {},
   "outputs": [],
   "source": [
    "class ClassA:\n",
    "    def feature1(self):\n",
    "        print('Feature 1 is working')\n",
    "        \n",
    "    def feature2(self):\n",
    "        print('Feature 2 is working')\n",
    "        \n",
    "class ClassB(ClassA):\n",
    "    def feature3(self):\n",
    "        print('Feature 3 is working')\n",
    "        \n",
    "    def feature4(self):\n",
    "        print('Feature 4 is working')\n",
    "        \n",
    "class ClassC(ClassB):\n",
    "    def feature5(self):\n",
    "        print('Feature 5 is working')\n",
    "        \n",
    "    def feature6(self):\n",
    "        print('Feature 6 is working')        "
   ]
  },
  {
   "cell_type": "code",
   "execution_count": 13,
   "metadata": {},
   "outputs": [
    {
     "name": "stdout",
     "output_type": "stream",
     "text": [
      "Feature 1 is working\n",
      "Feature 2 is working\n",
      "Feature 3 is working\n",
      "Feature 4 is working\n",
      "Feature 5 is working\n",
      "Feature 6 is working\n",
      "Feature 1 is working\n",
      "Feature 2 is working\n",
      "Feature 1 is working\n",
      "Feature 2 is working\n",
      "Feature 3 is working\n",
      "Feature 4 is working\n"
     ]
    }
   ],
   "source": [
    "a = ClassA()\n",
    "b = ClassB()\n",
    "c = ClassC()\n",
    "\n",
    "a.feature1()\n",
    "a.feature2()\n",
    "\n",
    "b.feature3()\n",
    "b.feature4()\n",
    "\n",
    "c.feature5()\n",
    "c.feature6()\n",
    "\n",
    "# Access features of ClassA from ClassB\n",
    "b.feature1()\n",
    "b.feature2()\n",
    "\n",
    "# Access features of ClassA, ClassB from ClassC\n",
    "c.feature1()\n",
    "c.feature2()\n",
    "c.feature3()\n",
    "c.feature4()"
   ]
  },
  {
   "cell_type": "markdown",
   "metadata": {},
   "source": [
    "#### Person ==> Student"
   ]
  },
  {
   "cell_type": "code",
   "execution_count": 14,
   "metadata": {},
   "outputs": [],
   "source": [
    "class Person:\n",
    "    def __init__(self,name,age):\n",
    "        self.name = name\n",
    "        self.age = age\n",
    "\n",
    "        \n",
    "class Student(Person):\n",
    "    def __init__(self,name,age,schoolName,studentId):\n",
    "        Person.name = name\n",
    "        Person.age = age\n",
    "        self.schoolName = schoolName\n",
    "        self.studentId = studentId\n",
    "        \n",
    "    def info(self):\n",
    "        print('Student Details: Name: '+self.name+' | Age: '+str(self.age)+\n",
    "              ' | School Name: '+self.schoolName+' | Student ID: '\n",
    "              +str(self.studentId)\n",
    "             )\n",
    "        "
   ]
  },
  {
   "cell_type": "code",
   "execution_count": 17,
   "metadata": {},
   "outputs": [
    {
     "name": "stdout",
     "output_type": "stream",
     "text": [
      "Student Details: Name: Viraj Age: 20 School Name: Maliyadeva College Student ID: 8587\n"
     ]
    }
   ],
   "source": [
    "student = Student('Viraj',20,'Maliyadeva College',8587)\n",
    "student.info()"
   ]
  }
 ],
 "metadata": {
  "kernelspec": {
   "display_name": "Python 3",
   "language": "python",
   "name": "python3"
  },
  "language_info": {
   "codemirror_mode": {
    "name": "ipython",
    "version": 3
   },
   "file_extension": ".py",
   "mimetype": "text/x-python",
   "name": "python",
   "nbconvert_exporter": "python",
   "pygments_lexer": "ipython3",
   "version": "3.8.3"
  }
 },
 "nbformat": 4,
 "nbformat_minor": 4
}
