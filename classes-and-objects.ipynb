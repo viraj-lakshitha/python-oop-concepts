{
 "cells": [
  {
   "cell_type": "markdown",
   "metadata": {},
   "source": [
    "# Classes and Objects"
   ]
  },
  {
   "cell_type": "code",
   "execution_count": 1,
   "metadata": {},
   "outputs": [],
   "source": [
    "# Define a class\n",
    "class Computer:\n",
    "    # Attributes\n",
    "    # Methods\n",
    "    def config(self):\n",
    "        print(\"Asus vivobook | 16GB RAM | 1TB HDD\")"
   ]
  },
  {
   "cell_type": "code",
   "execution_count": 5,
   "metadata": {},
   "outputs": [
    {
     "name": "stdout",
     "output_type": "stream",
     "text": [
      "<class '__main__.Computer'>\n"
     ]
    }
   ],
   "source": [
    "comp = Computer() # Create Computer object\n",
    "print(type(comp))"
   ]
  },
  {
   "cell_type": "code",
   "execution_count": 8,
   "metadata": {},
   "outputs": [
    {
     "name": "stdout",
     "output_type": "stream",
     "text": [
      "Asus vivobook | 16GB RAM | 1TB HDD\n",
      "Asus vivobook | 16GB RAM | 1TB HDD\n"
     ]
    }
   ],
   "source": [
    "# Calling the method from computer object\n",
    "comp.config() # Method 1\n",
    "Computer.config(comp) # Method 2"
   ]
  },
  {
   "cell_type": "code",
   "execution_count": 35,
   "metadata": {},
   "outputs": [],
   "source": [
    "# __init__ method | self is similar to this in java\n",
    "class Person():\n",
    "    # Constructor\n",
    "    def __init__(self,name,age):\n",
    "        self.name = name\n",
    "        self.age = age\n",
    "    \n",
    "    # Print details\n",
    "    def details(self):\n",
    "        print('Name: '+self.name+' , Age: '+str(self.age))\n",
    "    \n",
    "    # Update the value of the age\n",
    "    def update(self,newAge):\n",
    "        self.age = newAge\n",
    "        self.details()\n",
    "        \n",
    "    # Compare objects\n",
    "    def compare(self,person):\n",
    "        if self.name == person.name and self.age == person.age:\n",
    "            return True\n",
    "        else:\n",
    "            return False\n",
    "        "
   ]
  },
  {
   "cell_type": "code",
   "execution_count": 37,
   "metadata": {},
   "outputs": [
    {
     "name": "stdout",
     "output_type": "stream",
     "text": [
      "Name: Viraj , Age: 21\n",
      "Name: Viraj , Age: 20\n",
      "Name: Jiyodya , Age: 21\n",
      "Name: Jiyodya , Age: 19\n",
      "Different Objects\n"
     ]
    }
   ],
   "source": [
    "# Object 1\n",
    "person1 = Person('Viraj',21)\n",
    "person1.details()\n",
    "person1.update(20)\n",
    "\n",
    "# Object 2\n",
    "person2 = Person('Jiyodya',21)\n",
    "person2.details()\n",
    "person2.update(19)\n",
    "\n",
    "# Compare Objects\n",
    "if person1.compare(person2) :\n",
    "    print('Same Objects')\n",
    "else:\n",
    "    print('Different Objects')"
   ]
  },
  {
   "cell_type": "markdown",
   "metadata": {},
   "source": [
    "### Varibales (Instance and Static Variables)\n",
    "* If variable define inside the init then it's a instance variable\n",
    "* If variable define inside the class but outside the init then it's static variables"
   ]
  },
  {
   "cell_type": "code",
   "execution_count": 44,
   "metadata": {},
   "outputs": [],
   "source": [
    "class Car:\n",
    "    \n",
    "    wheels = 4 # Static Variable\n",
    "    \n",
    "    # Constructor\n",
    "    def __init__(self):\n",
    "        self.mil = 10 # Instance Variable\n",
    "        self.com = 'Audi'"
   ]
  },
  {
   "cell_type": "code",
   "execution_count": 48,
   "metadata": {},
   "outputs": [
    {
     "name": "stdout",
     "output_type": "stream",
     "text": [
      "10 Audi 4\n"
     ]
    }
   ],
   "source": [
    "car = Car()\n",
    "\n",
    "print(car.mil, car.com, Car.wheels) # Static variable can read thought the class name without object"
   ]
  },
  {
   "cell_type": "markdown",
   "metadata": {},
   "source": [
    "### Methods (Instance, Class, Static)\n",
    "* Static Method: If a method without dealing with any instance or class variable then its a static method, and also you have add the decorator as `@staticmethod` just above the method\n",
    "* Instance Method: It belongs to the object, without the object it doesnt performs.Instance variable can only use with the instances methods\n",
    "* Class Method: If the method is class method then you have to add the decorator just above the class methods as `@classmethod` Class variables are only use with the Class methods\n",
    "---------------------------------------------------------------------------\n",
    "* Accessor Method -  performs read-only functions (eg: getters)\n",
    "* Mutator Method - performs read-and-write functions (eg: setters)\n",
    "---------------------------------------------------------------------------\n",
    "If you wants to work with the instance methods and varibles then use `self`\n",
    "If you wants to work with the class methods and class variables then use `cls`"
   ]
  },
  {
   "cell_type": "code",
   "execution_count": 52,
   "metadata": {},
   "outputs": [],
   "source": [
    "class Student:  \n",
    "    # Class Variable / Static Variable\n",
    "    schoolName = 'Maliyadeva College'\n",
    "    \n",
    "    # Constructor\n",
    "    def __init__(self,m1,m2,m3):\n",
    "        self.m1 = m1\n",
    "        self.m2 = m2\n",
    "        self.m3 = m3\n",
    "        \n",
    "    #Static Method\n",
    "    @staticmethod\n",
    "    def info():\n",
    "        print('Student Class')\n",
    "    \n",
    "    #Instance Method\n",
    "    def average(self):\n",
    "        return (self.m1 + self.m2 + self.m3)/3\n",
    "    \n",
    "    #Class Methods\n",
    "    @classmethod\n",
    "    def getSchoolName(cls):\n",
    "        print('School Name: '+cls.schoolName)"
   ]
  },
  {
   "cell_type": "code",
   "execution_count": 54,
   "metadata": {},
   "outputs": [
    {
     "name": "stdout",
     "output_type": "stream",
     "text": [
      "Student Class\n",
      "82.66666666666667\n",
      "School Name: Maliyadeva College\n"
     ]
    }
   ],
   "source": [
    "s1 = Student(89,80,79)\n",
    "Student.info()\n",
    "print(s1.average())\n",
    "s1.getSchoolName()\n"
   ]
  },
  {
   "cell_type": "markdown",
   "metadata": {},
   "source": [
    "### Inner Class\n",
    "A class inside a class, you can't access directly because inner class is inside another class"
   ]
  },
  {
   "cell_type": "code",
   "execution_count": 74,
   "metadata": {},
   "outputs": [],
   "source": [
    "class Lecturer:\n",
    "    def __init__(self,name,exp):\n",
    "        self.name = name\n",
    "        self.exp = exp\n",
    "        self.module = self.Module()\n",
    "    \n",
    "    def show(self):\n",
    "        print(self.name, self.exp)\n",
    "        print(self.module.show())\n",
    "        \n",
    "    class Module:\n",
    "        def __init__(self):\n",
    "            self.moduleName = 'Algorithm'\n",
    "            self.duration = 8\n",
    "            \n",
    "        def show(self):\n",
    "            print(self.moduleName, self.duration)"
   ]
  },
  {
   "cell_type": "code",
   "execution_count": 75,
   "metadata": {},
   "outputs": [
    {
     "name": "stdout",
     "output_type": "stream",
     "text": [
      "Viraj 10years\n",
      "Algorithm 8\n",
      "None\n"
     ]
    }
   ],
   "source": [
    "lec = Lecturer('Viraj','10years')\n",
    "lec.show()"
   ]
  },
  {
   "cell_type": "code",
   "execution_count": null,
   "metadata": {},
   "outputs": [],
   "source": []
  }
 ],
 "metadata": {
  "kernelspec": {
   "display_name": "Python 3",
   "language": "python",
   "name": "python3"
  },
  "language_info": {
   "codemirror_mode": {
    "name": "ipython",
    "version": 3
   },
   "file_extension": ".py",
   "mimetype": "text/x-python",
   "name": "python",
   "nbconvert_exporter": "python",
   "pygments_lexer": "ipython3",
   "version": "3.8.3"
  }
 },
 "nbformat": 4,
 "nbformat_minor": 4
}
